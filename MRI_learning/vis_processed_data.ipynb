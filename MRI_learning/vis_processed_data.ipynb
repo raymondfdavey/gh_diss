{
 "cells": [
  {
   "cell_type": "code",
   "execution_count": 1,
   "metadata": {},
   "outputs": [
    {
     "name": "stdout",
     "output_type": "stream",
     "text": [
      "True\n"
     ]
    }
   ],
   "source": [
    "# Import all the necessary packages\n",
    "import numpy as np\n",
    "import nibabel as nib\n",
    "import itk\n",
    "import itkwidgets\n",
    "from ipywidgets import interact, interactive, IntSlider, ToggleButtons\n",
    "import matplotlib.pyplot as plt\n",
    "%matplotlib inline\n",
    "import seaborn as sns\n",
    "sns.set_style('darkgrid')\n",
    "import random\n",
    "import os\n",
    "import sys\n",
    "import torch \n",
    "print(torch.backends.mps.is_available())"
   ]
  },
  {
   "cell_type": "code",
   "execution_count": 2,
   "metadata": {},
   "outputs": [],
   "source": [
    "def explore_3dimage(image_data, layer, image_path):\n",
    "    plt.figure(figsize=(10, 5))\n",
    "    plt.imshow(image_data[:, :, layer], cmap='gray');\n",
    "    plt.title(f'{image_path[2:-7]}', fontsize=20)\n",
    "    plt.axis('off')\n",
    "    return layer\n",
    "\n",
    "def viz_interactive_3D_image(image_path):\n",
    "    image_obj = nib.load(image_path)\n",
    "    image_data = image_obj.get_fdata()\n",
    "    print('image_data pixels data type: ',  image_data.dtype)\n",
    "    print('image_data type: ',  type(image_data))\n",
    "    print('image_obj type: ',  type(image_obj))\n",
    "    height, width, depth = image_data.shape\n",
    "    print(f\"({height}, {width}, {depth})\")\n",
    "    interact(lambda layer: explore_3dimage(image_data, layer, image_path), layer=(0, image_data.shape[2] - 1))\n",
    "\n",
    "def get_random_file(directory):\n",
    "    try:\n",
    "        # Get all files in the directory\n",
    "        files = [f for f in os.listdir(directory) if os.path.isfile(os.path.join(directory, f))]\n",
    "        \n",
    "        # If there are no files, return None\n",
    "        if not files:\n",
    "            return None\n",
    "        \n",
    "        # Select a random file\n",
    "        random_file = random.choice(files)\n",
    "        \n",
    "        # Return the full path\n",
    "        return os.path.join(directory, random_file)\n",
    "    \n",
    "    except FileNotFoundError:\n",
    "        print(f\"Directory not found: {directory}\")\n",
    "        return None\n",
    "    except PermissionError:\n",
    "        print(f\"Permission denied to access directory: {directory}\")\n",
    "        return None\n"
   ]
  },
  {
   "cell_type": "code",
   "execution_count": 191,
   "metadata": {},
   "outputs": [
    {
     "name": "stdout",
     "output_type": "stream",
     "text": [
      "image_data pixels data type:  float64\n",
      "image_data type:  <class 'numpy.ndarray'>\n",
      "image_obj type:  <class 'nibabel.nifti1.Nifti1Image'>\n",
      "(136, 176, 128)\n"
     ]
    },
    {
     "data": {
      "application/vnd.jupyter.widget-view+json": {
       "model_id": "0e6f33024d74424b8a7a42fd978dface",
       "version_major": 2,
       "version_minor": 0
      },
      "text/plain": [
       "interactive(children=(IntSlider(value=63, description='layer', max=127), Output()), _dom_classes=('widget-inte…"
      ]
     },
     "metadata": {},
     "output_type": "display_data"
    }
   ],
   "source": [
    "# dir = \"/Users/rd81/MRI_DATA/PRODUCTION/FINAL/Train/IXI/mask\"\n",
    "# dir = \"/Users/rd81/MRI_DATA/PRODUCTION/FINAL/Train/IXI/t2\"\n",
    "\n",
    "# dir = \"/Users/rd81/MRI_DATA/PRODUCTION/FINAL/Test/Brats21/t2\"\n",
    "# dir = \"/Users/rd81/MRI_DATA/PRODUCTION/FINAL/Test/Brats21/mask\"\n",
    "# dir = \"/Users/rd81/MRI_DATA/PRODUCTION/FINAL/Test/Brats21/seg\"\n",
    "\n",
    "# dir = \"/Users/rd81/MRI_DATA/PRODUCTION/FINAL/Test/MSLUB/mask\"\n",
    "# dir = \"/Users/rd81/MRI_DATA/PRODUCTION/FINAL/Test/MSLUB/seg\"\n",
    "# dir = \"/Users/rd81/MRI_DATA/PRODUCTION/FINAL/Test/MSLUB/t2\"\n",
    "\n",
    "\n",
    "path = get_random_file(dir)    \n",
    "viz_interactive_3D_image(path)"
   ]
  },
  {
   "cell_type": "code",
   "execution_count": null,
   "metadata": {},
   "outputs": [],
   "source": []
  }
 ],
 "metadata": {
  "kernelspec": {
   "display_name": "Python 3",
   "language": "python",
   "name": "python3"
  },
  "language_info": {
   "codemirror_mode": {
    "name": "ipython",
    "version": 3
   },
   "file_extension": ".py",
   "mimetype": "text/x-python",
   "name": "python",
   "nbconvert_exporter": "python",
   "pygments_lexer": "ipython3",
   "version": "3.11.3"
  }
 },
 "nbformat": 4,
 "nbformat_minor": 2
}
